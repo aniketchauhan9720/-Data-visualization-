{
 "cells": [
  {
   "cell_type": "code",
   "execution_count": 1,
   "id": "fd09f1b5-bc80-4ba7-aee8-89799995c88f",
   "metadata": {},
   "outputs": [
    {
     "name": "stdout",
     "output_type": "stream",
     "text": [
      "Hello\n",
      "Hi\n",
      "I am alok singh\n"
     ]
    }
   ],
   "source": [
    "#Ques-1-Write a function in python to read the content from a text file \"ABC.txt\" line by line and display the same on the screen \n",
    "file_path=\"/Users/aloksingh/Desktop/DAVIS/LAB/Assignment(20july)/ABC.txt\"\n",
    "file=open(file_path, 'r') \n",
    "# Read each line from the file\n",
    "for line in file:\n",
    "# Print each line to the screen\n",
    "    print(line, end='')"
   ]
  },
  {
   "cell_type": "code",
   "execution_count": 33,
   "id": "f6c1c861-78ff-4463-81b1-8f1469e126d5",
   "metadata": {},
   "outputs": [
    {
     "name": "stdout",
     "output_type": "stream",
     "text": [
      "6\n"
     ]
    }
   ],
   "source": [
    "#Ques-2-Write a function in Python to count and display the total number of words in a text file \"ABC.bxt\"\n",
    "file_path=\"/Users/aloksingh/Desktop/DAVIS/LAB/Assignment(20july)/ABC.txt\"\n",
    "file=open(file_path, 'r') \n",
    "text=file.read()\n",
    "words=text.split()\n",
    "print(len(words))"
   ]
  },
  {
   "cell_type": "code",
   "execution_count": 35,
   "id": "617c5149-231d-49b4-b8d7-2365b8507051",
   "metadata": {},
   "outputs": [
    {
     "name": "stdout",
     "output_type": "stream",
     "text": [
      "3\n"
     ]
    }
   ],
   "source": [
    "#Ques-3-Write a function in Python to count uppercase character in a text file \"ABC.txt\"\n",
    "file_path=\"/Users/aloksingh/Desktop/DAVIS/LAB/Assignment(20july)/ABC.txt\"\n",
    "file=open(file_path, 'r') \n",
    "text=file.read()\n",
    "count=0\n",
    "for char in text:\n",
    "        # Check if the character is an uppercase letter\n",
    "    if char.isupper():\n",
    "        count += 1\n",
    "    \n",
    "print(count)"
   ]
  },
  {
   "cell_type": "code",
   "execution_count": 37,
   "id": "a07c13ac-6f81-436a-97c6-c3ec029638c9",
   "metadata": {},
   "outputs": [
    {
     "name": "stdout",
     "output_type": "stream",
     "text": [
      "The\n",
      "sun\n",
      "was\n",
      "the\n",
      "the\n",
      "sky\n",
      "of\n",
      "and\n",
      "the\n",
      "her\n",
      "It\n",
      "had\n",
      "a\n",
      "day\n",
      "at\n",
      "and\n",
      "she\n",
      "was\n",
      "for\n",
      "the\n",
      "a\n",
      "she\n",
      "to\n",
      "a\n",
      "by\n",
      "the\n",
      "The\n",
      "at\n",
      "the\n",
      "a\n",
      "her\n",
      "ran\n",
      "and\n",
      "the\n",
      "the\n",
      "the\n",
      "a\n",
      "mix\n",
      "of\n",
      "and\n",
      "new\n",
      "but\n",
      "she\n",
      "was\n",
      "to\n",
      "The\n",
      "the\n",
      "in\n",
      "its\n"
     ]
    }
   ],
   "source": [
    "#Ques-4-Write a function display_words) in python to read lines from a text file \"story.txt\", and display those words,\n",
    "#which are less than 4 characters.\n",
    "file_path=\"/Users/aloksingh/Desktop/DAVIS/LAB/Assignment(20july)/story.txt\"\n",
    "file=open(file_path,\"r\") \n",
    "for line in file :\n",
    "    words=line.split()\n",
    "    for word in words:\n",
    "        if len(word)<4:\n",
    "            print(word)\n"
   ]
  },
  {
   "cell_type": "code",
   "execution_count": 39,
   "id": "5ca9f8eb-ad80-46eb-ab66-5cf1fba2ac3f",
   "metadata": {},
   "outputs": [
    {
     "name": "stdout",
     "output_type": "stream",
     "text": [
      "6\n"
     ]
    }
   ],
   "source": [
    "#Ques-5-Write a program to count occurance of word \"INDIA\" in a text file INDIA.txt\n",
    "file_path=\"/Users/aloksingh/Desktop/DAVIS/LAB/Assignment(20july)/INDIA.txt\"\n",
    "file=open(file_path,\"r\")\n",
    "count=0\n",
    "for line in file:\n",
    "    words=line.split()\n",
    "    words = [word.strip('.,!?;:\"\\'()[]{}') for word in line.split()]\n",
    "    for word in words:\n",
    "        if word.lower()==\"india\":\n",
    "            count+=1\n",
    "\n",
    "print(count)"
   ]
  },
  {
   "cell_type": "code",
   "execution_count": 41,
   "id": "557fa483-dff9-41d4-97d1-4806738b4d7f",
   "metadata": {},
   "outputs": [
    {
     "name": "stdout",
     "output_type": "stream",
     "text": [
      "9\n"
     ]
    }
   ],
   "source": [
    "#Ques-6-Write a program to count and display the lines starting with \"T\" in a text file story.txt\n",
    "file_path=\"/Users/aloksingh/Desktop/DAVIS/LAB/Assignment(20july)/story.txt\"\n",
    "file=open(file_path,\"r\")\n",
    "count=0\n",
    "for line in file:\n",
    "    if line.startswith(\"T\"):\n",
    "        count+=1\n",
    "print (count)"
   ]
  },
  {
   "cell_type": "code",
   "execution_count": 43,
   "id": "4d2152fe-99c5-4524-a846-3f0f32421194",
   "metadata": {},
   "outputs": [
    {
     "name": "stdout",
     "output_type": "stream",
     "text": [
      "Number of vowels: 54\n",
      "Number of consonants: 85\n"
     ]
    }
   ],
   "source": [
    "#Ques-7-Write a program to count number of consonant and vowels in \"Myfile.txt\"\n",
    "file_path=\"/Users/aloksingh/Desktop/DAVIS/LAB/Assignment(20july)/Myfile.txt\"\n",
    "file=open(file_path,\"r\")\n",
    "\n",
    "vowels = \"AEIOUaeiou\"\n",
    "consonants = \"BCDFGHJKLMNPQRSTVWXYZbcdfghjklmnpqrstvwxyz\"\n",
    "\n",
    "vowel_count = 0\n",
    "consonant_count = 0\n",
    "\n",
    "for line in file:\n",
    "    for char in line:\n",
    "        if char in vowels:\n",
    "            vowel_count += 1\n",
    "        elif char in consonants:\n",
    "            consonant_count += 1\n",
    "\n",
    "print(f\"Number of vowels: {vowel_count}\")\n",
    "print(f\"Number of consonants: {consonant_count}\")"
   ]
  },
  {
   "cell_type": "code",
   "execution_count": 47,
   "id": "e8348620-6ee0-4a54-9d5a-ee0d9687d6ca",
   "metadata": {},
   "outputs": [
    {
     "name": "stdout",
     "output_type": "stream",
     "text": [
      "Number of words starting with 'i': 9\n"
     ]
    }
   ],
   "source": [
    "#Ques-8-Write a program to count and display number of words starting with \"i\" in a file Word.txt\n",
    "file_path=\"/Users/aloksingh/Desktop/DAVIS//LAB/Assignment(20july)/Word.txt\"\n",
    "file=open(file_path,\"r\")\n",
    "for line in file:\n",
    "        words = line.split()\n",
    "        for word in words:\n",
    "            clean_word = word.strip('.,!?;:\"\\'()[]{}')\n",
    "            if clean_word.lower().startswith('i'):\n",
    "                print(clean_word)\n",
    "                count += 1\n",
    "\n",
    "print(f\"Number of words starting with 'i': {count}\")"
   ]
  },
  {
   "cell_type": "code",
   "execution_count": 51,
   "id": "6e527f3e-917f-43da-8272-923406498c0d",
   "metadata": {},
   "outputs": [
    {
     "name": "stdout",
     "output_type": "stream",
     "text": [
      "Here is another example of a line with more than five words.\n",
      "Another example which exceeds the five-word limit.\n",
      "And yet another line that is definitely long enough to qualify.\n"
     ]
    }
   ],
   "source": [
    "#Ques-9-Write a program to display the lines having more than five words in a text file Notes.txt\n",
    "file_path=\"/Users/aloksingh/Desktop/DAVIS/LAB/Assignment(20july)/Notes.txt\"\n",
    "file=open(file_path,\"r\")\n",
    "for line in file:\n",
    "        words = line.split()\n",
    "        if len(words) > 5:\n",
    "            print(line.strip())"
   ]
  },
  {
   "cell_type": "code",
   "execution_count": 5,
   "id": "476a3960-b8d1-4cea-9fef-cee8b1cb3c8b",
   "metadata": {},
   "outputs": [
    {
     "name": "stdout",
     "output_type": "stream",
     "text": [
      "Enter Roll Number:  1\n",
      "Enter Name:  abhi \n",
      "Enter Marks:  88\n",
      "Do you want to add another student? (yes/no):  yes \n",
      "Enter Roll Number:  33\n",
      "Enter Name:  aman\n",
      "Enter Marks:  99\n",
      "Do you want to add another student? (yes/no):  yes\n",
      "Enter Roll Number:  44\n",
      "Enter Name:  alok\n",
      "Enter Marks:  88\n",
      "Do you want to add another student? (yes/no):  yes \n",
      "Enter Roll Number:  3\n",
      "Enter Name:  anuj\n",
      "Enter Marks:  89\n",
      "Do you want to add another student? (yes/no):  no\n"
     ]
    }
   ],
   "source": [
    "#Ques-10-Write a program to create a binary fine \"Stu.dat\" and Enter students rollno. Name and Marks till the user wants.\n",
    "import pickle \n",
    "file_path=\"/Users/aloksingh/Desktop/DAVIS/LAB/Assignment(20july)/Stu.dat\"\n",
    "file=open(file_path, \"wb\")\n",
    "while True:\n",
    "            rollno = input(\"Enter Roll Number: \")\n",
    "            name = input(\"Enter Name: \")\n",
    "            marks = float(input(\"Enter Marks: \"))\n",
    "\n",
    "            # Pack the data\n",
    "            student_data = {'rollno': rollno, 'name': name, 'marks': marks}\n",
    "            packed_data = pickle.dumps(student_data)\n",
    "\n",
    "            # Write the packed data to the binary file\n",
    "            file.write(packed_data)\n",
    "\n",
    "            cont = input(\"Do you want to add another student? (yes/no): \").strip().lower()\n",
    "            if cont != 'yes':\n",
    "                break"
   ]
  },
  {
   "cell_type": "code",
   "execution_count": 7,
   "id": "9718a067-3b39-4093-bcc0-6cfdea61753c",
   "metadata": {},
   "outputs": [
    {
     "name": "stdout",
     "output_type": "stream",
     "text": [
      "Roll Number: 1, Name: abhi , Marks: 88.0\n"
     ]
    }
   ],
   "source": [
    "#Ques-11-Write a program to read a binary file \"Stu.dat\" and display the record of students having marks greater than 81\n",
    "file_path=\"/Users/aloksingh/Desktop/DAVIS/LAB/Assignment(20july)/Stu.dat\"\n",
    "file=open(file_path,\"rb\")\n",
    "while True:\n",
    "     # Read the packed data from the binary file\n",
    "     packed_data = file.read()\n",
    "\n",
    "    # If there's no more data to read, break out of the loop\n",
    "     if not packed_data:\n",
    "         break\n",
    "\n",
    "     # Deserialize the data\n",
    "     student_data = pickle.loads(packed_data)\n",
    "\n",
    "            # Check if marks are greater than 81 and print the record\n",
    "     if student_data['marks'] > 81:\n",
    "         print(f\"Roll Number: {student_data['rollno']}, Name: {student_data['name']}, Marks: {student_data['marks']}\")\n",
    "\n"
   ]
  },
  {
   "cell_type": "code",
   "execution_count": null,
   "id": "d3b3a6bb-42c5-4101-8d0e-c87d65892784",
   "metadata": {},
   "outputs": [],
   "source": []
  }
 ],
 "metadata": {
  "kernelspec": {
   "display_name": "Python 3 (ipykernel)",
   "language": "python",
   "name": "python3"
  },
  "language_info": {
   "codemirror_mode": {
    "name": "ipython",
    "version": 3
   },
   "file_extension": ".py",
   "mimetype": "text/x-python",
   "name": "python",
   "nbconvert_exporter": "python",
   "pygments_lexer": "ipython3",
   "version": "3.12.4"
  }
 },
 "nbformat": 4,
 "nbformat_minor": 5
}
